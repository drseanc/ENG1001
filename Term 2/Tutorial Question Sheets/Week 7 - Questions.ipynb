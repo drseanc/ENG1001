{
 "cells": [
  {
   "cell_type": "code",
   "execution_count": 1,
   "metadata": {
    "deletable": false,
    "editable": false,
    "hide_input": true
   },
   "outputs": [
    {
     "name": "stdout",
     "output_type": "stream",
     "text": [
      "- Dependencies imported 👍\n",
      "- Remember to select 'Kernel-> Restart & Run All' on first load to show embedded Youtube videos 🎬\n",
      "- Author: Dr H Alwi & Dr SPCarroll, Sept 2020, Rev 0\n"
     ]
    }
   ],
   "source": [
    "#DEPENDENCIES & INITIALISATIONS\n",
    "from IPython.display import HTML #For embedding videos\n",
    "import math #Basic math functionality\n",
    "import numpy as np #Numpy for working with arrays\n",
    "import matplotlib.pyplot as plt #Plotting functionality \n",
    "#HTML('<center><iframe width=\"560\" height=\"315\" src=\"#\" frameborder=\"0\" allowfullscreen></iframe></center>')\n",
    "print(\"- Dependencies imported 👍\")\n",
    "print(\"- Remember to select 'Kernel-> Restart & Run All' on first load to show embedded Youtube videos 🎬\")\n",
    "print(\"- Author: Dr H Alwi & Dr SPCarroll, Sept 2020, Rev 0\")"
   ]
  },
  {
   "cell_type": "markdown",
   "metadata": {},
   "source": [
    "# Week 7: Polar Coordinates & Force, Mass and Acceleration\n",
    "Reference: Chapter 13 of Engineering Mechanics - Statics and Dynamics Principles, Bedford A. & Fowler, W., 2003"
   ]
  },
  {
   "cell_type": "markdown",
   "metadata": {},
   "source": [
    "## Question 1"
   ]
  },
  {
   "cell_type": "markdown",
   "metadata": {},
   "source": [
    "A robotic arm is programmed so that the point $P$ (manipulator) traverses a path described by the polar coordinates,\n",
    "\n",
    "\\begin{equation*}\n",
    "r=1-0.5\\cos(2\\pi t) \\:m\n",
    "\\end{equation*}\n",
    "\n",
    "\\begin{equation*}\n",
    "\\theta = 0.5-0.2\\sin(2\\pi t) \\:rad\n",
    "\\end{equation*}\n",
    "\n",
    "At $t=0.8\\:s$ determine:\n",
    "- (a) the velocity of $P$ in terms of polar coordinates.\n",
    "- (b) the cartesian components of the velocity of $P$."
   ]
  },
  {
   "cell_type": "markdown",
   "metadata": {},
   "source": [
    "![title](img/T2W7/img1.jpg)"
   ]
  },
  {
   "cell_type": "markdown",
   "metadata": {},
   "source": [
    "## Question 2\n"
   ]
  },
  {
   "cell_type": "markdown",
   "metadata": {},
   "source": [
    "The polar coordinates of the collar $A$ are given as functions of time,\n",
    "\n",
    "\\begin{equation*}\n",
    "r=1+0.2t^2\\:m\n",
    "\\end{equation*}\n",
    "\n",
    "\\begin{equation*}\n",
    "\\theta=2t \\:rad\n",
    "\\end{equation*}\n",
    "\n",
    "What are the magnitudes of the velocity and acceleration of the collar at $t=2$ seconds?"
   ]
  },
  {
   "cell_type": "markdown",
   "metadata": {},
   "source": [
    "![title](img/T2W7/img2.jpg)"
   ]
  },
  {
   "cell_type": "markdown",
   "metadata": {},
   "source": [
    "## Question 3"
   ]
  },
  {
   "cell_type": "markdown",
   "metadata": {},
   "source": [
    "The radial coordinate of a satellite is related to its angular position $\\theta$ by the following equation,\n",
    "\n",
    "\\begin{equation*}\n",
    "r=\\frac{1.91\\times 10^7}{1+0.5\\cos\\theta}\\:m\n",
    "\\end{equation*}\n",
    "\n",
    "The product of the radial position and the transverse component of the velocity is,\n",
    "\n",
    "\\begin{equation*}\n",
    "rv_\\theta = 8.72\\times 10^{10}\\:m^2/s\n",
    "\\end{equation*}\n",
    "\n",
    "What is the satellite's velocity in terms of polar coordinates when $\\theta=90^\\circ$?"
   ]
  },
  {
   "cell_type": "markdown",
   "metadata": {},
   "source": [
    "![title](img/T2W7/img3.jpg)"
   ]
  },
  {
   "cell_type": "markdown",
   "metadata": {},
   "source": [
    "## Question 4"
   ]
  },
  {
   "cell_type": "markdown",
   "metadata": {},
   "source": [
    "The total force exerted on an $80000\\:N$ rocket during launch, including engine thrust, aerodynamic drag and self-weight between $2\\leq t \\leq4$ is given by the function,\n",
    "\n",
    "\\begin{equation*}\n",
    "\\sum\\mathbf{F} = (2000-400t^2)\\mathbf{i} +(5200+440t)\\mathbf{j} + (800+60t^2)\\mathbf{k}\\:N\n",
    "\\end{equation*}\n",
    "\n",
    "At $t=2$ seconds, its velocity is,\n",
    "\n",
    "\\begin{equation*}\n",
    "\\mathbf{v} = 12\\mathbf{i} + 220\\mathbf{j}-30\\mathbf{k}\\:m/s\n",
    "\\end{equation*}\n",
    "\n",
    "What is the velocity at $t=4$ seconds?"
   ]
  },
  {
   "cell_type": "markdown",
   "metadata": {},
   "source": [
    "## Answers"
   ]
  },
  {
   "cell_type": "markdown",
   "metadata": {},
   "source": [
    "1. $\\mathbf{v} = -2.99\\mathbf{e}_r -0.33\\mathbf{e}_\\theta\\:m/s$, $v_x = -2.09\\:m/s$ $v_y=-2.16 \\:m/s $\n",
    "2. $3.69 \\:m/s$, $7.52 \\:m/s^2$\n",
    "3. $\\mathbf{v} = 2282\\:\\mathbf{e}_r + 4565\\:\\mathbf{e}_\\theta \\:m/s$\n",
    "4. $\\mathbf{v} = (11.56\\:\\mathbf{i} + 222.8\\:\\mathbf{j}-29.7\\:\\mathbf{k})\\:m/s$"
   ]
  }
 ],
 "metadata": {
  "hide_input": false,
  "kernelspec": {
   "display_name": "Python 3",
   "language": "python",
   "name": "python3"
  },
  "language_info": {
   "codemirror_mode": {
    "name": "ipython",
    "version": 3
   },
   "file_extension": ".py",
   "mimetype": "text/x-python",
   "name": "python",
   "nbconvert_exporter": "python",
   "pygments_lexer": "ipython3",
   "version": "3.6.4"
  }
 },
 "nbformat": 4,
 "nbformat_minor": 2
}
