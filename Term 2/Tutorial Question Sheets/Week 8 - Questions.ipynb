{
 "cells": [
  {
   "cell_type": "code",
   "execution_count": 1,
   "metadata": {
    "deletable": false,
    "editable": false,
    "hide_input": false
   },
   "outputs": [
    {
     "name": "stdout",
     "output_type": "stream",
     "text": [
      "- Dependencies imported 👍\n",
      "- Remember to select 'Kernel-> Restart & Run All' on first load to show embedded Youtube videos 🎬\n",
      "- Author: Dr SPCarroll, Sept 2020, Rev 0\n"
     ]
    }
   ],
   "source": [
    "#DEPENDENCIES & INITIALISATIONS\n",
    "from IPython.display import HTML #For embedding videos\n",
    "import math #Basic math functionality\n",
    "import numpy as np #Numpy for working with arrays\n",
    "import matplotlib.pyplot as plt #Plotting functionality \n",
    "#HTML('<center><iframe width=\"560\" height=\"315\" src=\"#\" frameborder=\"0\" allowfullscreen></iframe></center>')\n",
    "print(\"- Dependencies imported 👍\")\n",
    "print(\"- Remember to select 'Kernel-> Restart & Run All' on first load to show embedded Youtube videos 🎬\")\n",
    "print(\"- Author: Dr SPCarroll, Sept 2020, Rev 0\")"
   ]
  },
  {
   "cell_type": "markdown",
   "metadata": {},
   "source": [
    "# Week 8: Energy-based Analysis Methods\n",
    "Reference: Chapter 15 of Engineering Mechanics - Statics and Dynamics Principles, Bedford A. & Fowler, W., 2003"
   ]
  },
  {
   "cell_type": "markdown",
   "metadata": {},
   "source": [
    "## Question 1"
   ]
  },
  {
   "cell_type": "markdown",
   "metadata": {},
   "source": [
    "The $2000 \\:N$ drag racer starts from rest and travels a $250\\:m$ course. It completes the course in $4.524$ seconds and crosses the finish line traveling at $325.77\\: km/h$. \n",
    "\n",
    "- (a) How much work is done on the car as it travels the course? \n",
    "- (b) Assume that the horizontal force exerted on the car is constant and use the principle of work and energy to determine it.\n",
    "- (c) Determine the maximum power transferred to the car as it travels the $250\\:m$ course.\n",
    "- (b) Determine the average power transferred to the car."
   ]
  },
  {
   "cell_type": "markdown",
   "metadata": {},
   "source": [
    "## Question 2"
   ]
  },
  {
   "cell_type": "markdown",
   "metadata": {},
   "source": [
    "As a $32,000 \\:N$ aircraft takes off, the tangential component of force exerted on it by its engines is $\\sum F_t = 45000 \\:N$. Neglecting other forces on the aircraft, use the principle of work and energy to determine \n",
    "\n",
    "- (a) how much runway is required for its velocity to reach $200\\:km/h$.\n",
    "- (b) the average power transferred to the aircraft.\n",
    "\n",
    "Assume the aircraft undergoes constant acceleration between $v=0\\:km/h$ and $v=200\\:km/h$. \n",
    "\n",
    "**Variable force**\n",
    "\n",
    "Now consider a related scenario; before travelling down the runway, the aircraft is at rest at position $s=0$. The total tangential force exerted on it by its engines and aerodynamic drag (in Newtons) is given as a function of its position $s$ by,\n",
    "\n",
    "\\begin{equation*}\n",
    "\\sum F_t = 4500 - 5.2\\:s\n",
    "\\end{equation*}\n",
    "\n",
    "- (c) Use the principle of work and energy to determine how fast the airplane is traveling when its position is $s = 950\\:m$."
   ]
  },
  {
   "cell_type": "markdown",
   "metadata": {},
   "source": [
    "## Question 3"
   ]
  },
  {
   "cell_type": "markdown",
   "metadata": {},
   "source": [
    "A stunt driver wants to drive a car through a circular loop of radius $R = 5 \\:m$\n",
    "\n",
    "- Determine the minimum required velocity at the top of the loop such that the car stays in contact with the track.\n",
    "\n",
    "- Determine the minimum velocity $v_0$ at which the car can enter the loop and coast through without losing contact with the track. \n",
    "\n",
    "**Hint:**\n",
    "- Model the car's motion using components normal and tangential to the circular path."
   ]
  },
  {
   "cell_type": "markdown",
   "metadata": {},
   "source": [
    "![title](img/T2W8/img4.jpg)\n",
    "<center>Car coasting around a loop with an entry velocity $v_0$.</center>"
   ]
  },
  {
   "cell_type": "markdown",
   "metadata": {},
   "source": [
    "## Question 4"
   ]
  },
  {
   "cell_type": "markdown",
   "metadata": {},
   "source": [
    "Consider the steel collar capable of sliding along vertical shaft shown below. The spring attached to the collar has a spring stiffness $k=100N/m$ and the collar weighs $4\\:kg$. At position $1$ the spring is unstretched. \n",
    "\n",
    "- (a) If the collar is allowed to fall under its own weight from position 1, how far will it fall?\n",
    "\n",
    "- (b) Now imagine a new scenario; the collar against starts at position 1 but has an initial downward velocity of $v_0=1\\:m/s$. What is the maximum downward velocity the collar attains as it falls?"
   ]
  },
  {
   "cell_type": "markdown",
   "metadata": {},
   "source": [
    "![title](img/T2W8/img6.jpg)\n",
    "<center>Question 4.</center>"
   ]
  },
  {
   "cell_type": "markdown",
   "metadata": {},
   "source": [
    "## Answers"
   ]
  },
  {
   "cell_type": "markdown",
   "metadata": {},
   "source": [
    "1. $834734\\:Nm$, $3339\\:N$, $302146\\:Nm/s$, $184512\\:Nm/s$\n",
    "2. $111.9 m$, $1250000\\:Nm/s$, $157\\:m/s$\n",
    "3. $7.0\\:m/s$, $15.66 m/s$\n",
    "4. $0.785 m$, $2.2 m/s$"
   ]
  }
 ],
 "metadata": {
  "hide_input": false,
  "kernelspec": {
   "display_name": "Python 3",
   "language": "python",
   "name": "python3"
  },
  "language_info": {
   "codemirror_mode": {
    "name": "ipython",
    "version": 3
   },
   "file_extension": ".py",
   "mimetype": "text/x-python",
   "name": "python",
   "nbconvert_exporter": "python",
   "pygments_lexer": "ipython3",
   "version": "3.6.4"
  }
 },
 "nbformat": 4,
 "nbformat_minor": 2
}
