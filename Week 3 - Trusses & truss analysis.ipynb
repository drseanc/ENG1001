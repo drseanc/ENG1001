{
 "cells": [
  {
   "cell_type": "code",
   "execution_count": 1,
   "metadata": {
    "hide_input": false
   },
   "outputs": [
    {
     "name": "stdout",
     "output_type": "stream",
     "text": [
      "Dependencies imported 👍\n",
      "Dr SPCarroll, Sept 2020, Rev 0 [DRAFT]\n"
     ]
    }
   ],
   "source": [
    "#DEPENDENCIES & INITIALISATIONS\n",
    "from IPython.display import HTML #For embedding videos\n",
    "import math #Basic math functionality\n",
    "import numpy as np #Numpy for working with arrays\n",
    "import matplotlib.pyplot as plt #Plotting functionality \n",
    "#HTML('<iframe width=\"560\" height=\"315\" src=\"#\" frameborder=\"0\" allowfullscreen></iframe>')\n",
    "print(\"Dependencies imported 👍\")\n",
    "print(\"Dr SPCarroll, Sept 2020, Rev 0 [DRAFT]\")"
   ]
  },
  {
   "cell_type": "markdown",
   "metadata": {},
   "source": [
    "![title](img/T1W3/banner.jpg)"
   ]
  },
  {
   "cell_type": "markdown",
   "metadata": {},
   "source": [
    "# Week 3: Trusses & Truss Analysis\n",
    "This week we'll turn our attention to trusses, also known as pin-jointed structures. We'll discuss their strengths, common forms and methods of analysis.\n",
    "\n",
    "Trusses are one of the first *complete structures* we'll tackle. There is a couple of reasons for this; firstly, the truss is a very simple structure, easy to understand and analyse. Through some simple mechanics (that you've covered in week 1 and 2) we can quite easily trace the **load path** through a truss and visualise how forces are being transmitted through the structure and back to it's supports.\n",
    "\n",
    "The other reason we introduce trusses now is because they are so ubiquitous. We see them all around the built environment. Their simplicity belies their exceptional ability to span very large distances with great efficiency. It's this efficiency that makes them well suited as roof and bridge structures. "
   ]
  },
  {
   "cell_type": "markdown",
   "metadata": {},
   "source": [
    "## 1.0 What is a truss?"
   ]
  },
  {
   "cell_type": "markdown",
   "metadata": {},
   "source": [
    "A truss is a structure that consists of a collection of elements connected at **pin joints or nodes**. In theory, the pin joints provide no rotational resistance and behave as hinges. The benefit of a truss is that the members are predominantly axially loaded. This means they are either in compression, tension or have no force, so-called zero force members. This makes trusses a particularly efficient structural form. This is evidenced by the fact that we see truss structures routinely employed to span large distances and efficiently withstand high loads."
   ]
  },
  {
   "cell_type": "markdown",
   "metadata": {},
   "source": [
    "![title](img/T1W3/image1.jpg)\n",
    "<center>Lattice truss pylon structure, utilising axially loaded members</center>"
   ]
  },
  {
   "cell_type": "markdown",
   "metadata": {},
   "source": [
    "### 1.1 Theoretical truss behaviour"
   ]
  },
  {
   "cell_type": "markdown",
   "metadata": {},
   "source": [
    "As we've said, theoretically  at least, all truss nodes are effectively pins or hinges. This means that the members meeting at a node are free to rotate relative to each other. As such, moments cannot be transmitted from one member into adjacent members. Only forces can be transmitted through nodes. From the engineering perspective, a truss, like any structure has one purpose, to transmit externally applied forces through the structure and back into the supports or foundations of that structure. Take the simplest form of truss as an example."
   ]
  },
  {
   "cell_type": "markdown",
   "metadata": {},
   "source": [
    "![title](img/T1W3/image2.jpg)\n",
    "<center>Simple 2-bar truss subject to a single externally applied force</center>"
   ]
  },
  {
   "cell_type": "markdown",
   "metadata": {},
   "source": [
    "The 50 kN force applied at node B, must be transmitted through the structure back into the roller and pin support at A and C respectively. We can think of the external loads travelling along a **load path**. The engineer's job is to evaluate the load path and make sure the structural elements along that path can withstand the stresses induced by the loads being transmitted. \n",
    "\n",
    "Based on what we learned in week 2, the reactions at A and C are easily evaluated;\n",
    "\n",
    "\\begin{align}\n",
    "H_A &= 37.5 \\:\\text{kN}\\\\\n",
    "H_C &= 37.5 \\:\\text{kN}\\\\\n",
    "V_C &= 50 \\:\\text{kN}\n",
    "\\end{align}\n",
    "\n",
    "Confirm these values yourself through calculation. In order for these reactions to develop at the supports, member AB must transmit a compression force of 37.5 kN while member BC transmits a tension force of 62.5 kN. We can see this indicated on the right hand load path diagram below. By the end of this week, you will be comfortable determining these load paths for statically determinate truss structures."
   ]
  },
  {
   "cell_type": "markdown",
   "metadata": {},
   "source": [
    "![title](img/T1W3/image3.jpg)\n",
    "<center>Simple 2-bar truss subject to a single externally applied force and resulting load path.</center>"
   ]
  },
  {
   "cell_type": "markdown",
   "metadata": {},
   "source": [
    "### 1.2 Common truss types"
   ]
  },
  {
   "cell_type": "markdown",
   "metadata": {},
   "source": [
    "Before we focus on truss analysis methods, we should familiarise ourselves with some common truss forms or patterns. The truss pattern refers to the arrangement of internal vertical and diagonal members. The top and bottom members are often horizontal (although not always) and are sometimes referred to as truss chords or booms. Common forms or patterns of truss have emerged in response to different use cases. Some of the most common are the **Pratt, Howe, Warren and Modified Warren**.\n",
    "\n",
    "**Pratt Truss**\n",
    "\n",
    "The Pratt truss (first proposed by Thomas Pratt in 1844) is one of the most common forms of truss and is made up of vertical and diagonal members that form an ’N’ shape or pattern. The diagonal members are arranged so that they only develop tensile forces. The vertical members in a Pratt truss develop compression forces. This means they will typically be more robust and capable of resisting buckling. "
   ]
  },
  {
   "cell_type": "markdown",
   "metadata": {},
   "source": [
    "![title](img/T1W3/image4.jpg)\n",
    "<center>Pratt truss. Green members in tension, red members in compression, grey are zero force members.</center>"
   ]
  },
  {
   "cell_type": "markdown",
   "metadata": {},
   "source": [
    "**Howe truss**\n",
    "\n",
    "The Howe truss predates the Pratt truss and was proposed by William Howe in 1840. It is essentially the reverse of the Pratt truss (upside down Pratt truss). As a result, in response to vertical or gravity loading, the vertical members typically go into tension with the diagonal members going into compression. This is slightly less advantageous than the Pratt truss configuration as the longer diagonal members must now resist buckling in compression.  "
   ]
  },
  {
   "cell_type": "markdown",
   "metadata": {},
   "source": [
    "![title](img/T1W3/image5.jpg)\n",
    "<center>Howe truss. Green members in tension, red members in compression, grey are zero force members.</center>"
   ]
  },
  {
   "cell_type": "markdown",
   "metadata": {},
   "source": [
    "**Warren Truss**\n",
    "\n",
    "The Warren truss dispenses with internal vertical members entirely and is formed from a series of triangles. By eliminating the vertical members, the Warren truss is relatively economical in terms of material use. The internal diagonal members resist tension and compression forces alternately. James Warren proposed his Warren truss in 1848. \n",
    "\n",
    "It is no coincidence that three of the most common forms of truss emerged within less than a decade. The 1840s is a period that is characterised by *Railway Mania*. It was a period of intense investment and development of railway networks. This resulted in innovations in bridge design that gave us the Warren, Howe and Pratt trusses we see so commonly today.  "
   ]
  },
  {
   "cell_type": "markdown",
   "metadata": {},
   "source": [
    "![title](img/T1W3/image6.jpg)\n",
    "<center>Warren truss. Green members in tension, red members in compression, grey are zero force members.</center>"
   ]
  },
  {
   "cell_type": "markdown",
   "metadata": {},
   "source": [
    "**Modified Warren Truss**\n",
    "\n",
    "One consequence of the lack of vertical members in the Warren truss is that the top and bottom horizontal chords must span a relatively long distance between nodes. This may become a problem when the horizontal member is in compression. The modified Warren truss reintroduces the vertical members, halving the distance between nodes. This is also particularly helpful when the truss must support *secondary structure* such as roof purlins for example. One important condition to observe when designing a truss is to ensure any external loading is applied at a nodal point. The vertical members in a modified Warren truss help to facilitate this. "
   ]
  },
  {
   "cell_type": "markdown",
   "metadata": {},
   "source": [
    "![title](img/T1W3/image7.jpg)\n",
    "<center>Modified Warren truss. Green members in tension, red members in compression, grey are zero force members.</center>"
   ]
  },
  {
   "cell_type": "markdown",
   "metadata": {},
   "source": [
    "## 2.0 Assumptions and Simplifications"
   ]
  },
  {
   "cell_type": "markdown",
   "metadata": {},
   "source": [
    "Recall when we discussed supports models in week 2. We said that roller, pin and cantilever supports were simply idealised models of real foundation/support behaviour. Well the exact same thing is true of the truss models we analyse. When we set about analysing a truss we first have to construct a model on which to base our analysis. We must remember that the model is an imperfect representation of the real world structure. It's our approximation of the actual structure and will almost never capture 100\\% of the detail of the real-world structure. \n",
    "\n",
    "Sometimes these differences between model and structure are quite small, in which case we can have more confidence in our analysis. However if we're not careful the simplifying assumptions that facilitate our analysis can be so limiting that the model behaviour is not a good representation of the structure. Having an appreciation for the impact of how your assumptions degrade the accuracy of your model is crucially important.   \n",
    "\n",
    "So, what assumptions apply to the analysis of trusses? The first one has already been mentioned; we assume that the nodes or joints that connect members behave as pins. In other words, if we consider two members meeting at a joint, they would be free to rotate relative to each other. Now, as we've said, the implication of this is that no bending moments can be transmitted through a joint, only force. \n",
    "\n",
    "This leads to the second assumption; the members within a truss are subject to axial loads only, tension, compression or no force. Provided all external loads are applied at joints, then no bending will be induced within any of the members. Of course if an external force was applied to a member between joints, stresses due to bending would be induced in that member, but we typical try to avoid this *'inter-nodal'* loading in trusses if possible. \n",
    "\n",
    "The obvious question is how valid are these assumptions? Well, regarding the pinned joints, in reality true pins allowing free rotation are very rarely provided. This is mainly driven by the relatively high cost of fabricating such joints. In a steel truss, the joints are almost always bolted or welded. As such, bending moments will be transmitted to some degree through joints and therefore within the structure. "
   ]
  },
  {
   "cell_type": "markdown",
   "metadata": {},
   "source": [
    "![title](img/T1W3/image8.jpg)\n",
    "<center>Stainless steel truss with welded joints.</center>"
   ]
  },
  {
   "cell_type": "markdown",
   "metadata": {},
   "source": [
    "However, the geometry of the joints is usually such that their ability to transmit moment is quite limited. So our assumption usually causes model behaviour to deviate relatively little from the actual structural behaviour. With reference to the members developing only axial loads, it follows from our discussion of joints, that if inter-nodal loading is minimised, the predominant action experienced by the members will be axial force. So, all-in-all our truss models are pretty reasonable approximations of real truss structures."
   ]
  },
  {
   "cell_type": "markdown",
   "metadata": {},
   "source": [
    "## 3.0 Truss Analysis by Joint Resolution"
   ]
  },
  {
   "cell_type": "markdown",
   "metadata": {},
   "source": [
    "Now that we've clarified what a truss is and how we might model one, the next task is to work out how to identify the load path. In other words we want to be able to work out the forces developed in each of the memebrs in response to external loading.\n",
    "\n",
    "We'll focus on two similar techniques that make use of the equations of static equilibrium you're already familiar with. They are:\n",
    "- the joint resolution method and \n",
    "- the method of sections\n",
    "\n",
    "In both cases, we must first determine the support reactions for the structure. It is at this point we can employ the joint resolution method, method of sections or a combination of both. "
   ]
  },
  {
   "cell_type": "markdown",
   "metadata": {},
   "source": [
    "### 3.1 The joint resolution method"
   ]
  },
  {
   "cell_type": "markdown",
   "metadata": {},
   "source": [
    "The joint resolution method involves evaluating force equilibrium at each joint or node and using the equations of statics to solve for the unknown member forces. Consider the two bar truss discussed previously and shown below as a free body diagram.\n",
    "\n",
    "\n",
    "\n"
   ]
  },
  {
   "cell_type": "markdown",
   "metadata": {},
   "source": [
    "![title](img/T1W3/image9.jpg)\n",
    "<center>Free body diagram of a 2-bar truss</center>"
   ]
  },
  {
   "cell_type": "markdown",
   "metadata": {},
   "source": [
    "We will be evaluating the sum of the forces meeting at a joint. These forces can be resolved into two orthogonal (mutually perpendicular) directions allowing us to evaluate two equations of force equilibrium. Thus we have two equations from which we can determine two unknowns. So, using the method of joints we can only start at a joint that has a maximum of two unknown member forces. For this simple structure, we can consider any of the three nodes, we'll start with node B.\n",
    "\n",
    "We isolate the joint by *cutting* the members meeting at that joint. Making these cuts we *reveal* the internal member forces, for now labelled as $T_{BA}$ and $T_{BC}$ where the $T$ indicates we are assuming (until proven otherwise) that the forces are tension forces. "
   ]
  },
  {
   "cell_type": "markdown",
   "metadata": {},
   "source": [
    "![title](img/T1W3/image10.jpg)\n",
    "<center>Free body diagram of joint A</center>"
   ]
  },
  {
   "cell_type": "markdown",
   "metadata": {},
   "source": [
    "A free body diagram of the joint is then evaluated by taking the sum of the forces in the horizontal and vertical direction and equating them to zero to reveal the unknown member forces (remember two unknowns, so two equations required). In the following analysis, note that basic geometry gives us the angle $\\angle ABC = 53.1^{\\circ}$. Now consider force equilibrium of joint B:\n",
    "\n",
    "\\begin{align}\n",
    "\\sum F_y &= 0 \\:\\:(\\uparrow +)\\\\\n",
    "T_{BC}\\sin(53.1) - 50 &= 0\\\\\n",
    "T_{BC} &= 62.5\\:\\text{kN}\n",
    "\\end{align}\n",
    "\n",
    "Notice here that $T_{BC}$ evaluates to a positive number and therefore our assumption that the force in member BC is a tension force is correct. Now evaluating horizontal force equilibrium,\n",
    "\n",
    "\\begin{align}\n",
    "\\sum F_x &= 0 \\:\\:(\\rightarrow +)\\\\\n",
    "-T_{BA} - T_{BC}\\cos(53.1) &= 0\\\\\n",
    "T_{BA} &= -37.5\\:\\text{kN}\n",
    "\\end{align}\n",
    "\n",
    "Here the negative value tells us that the force in member BA is actually opposite to our initial assumption and therefore a compression force. This completes the analysis of this simple truss. It is worth reflecting on the direction of the arrows indicating tension and compression below."
   ]
  },
  {
   "cell_type": "markdown",
   "metadata": {},
   "source": [
    "![title](img/T1W3/image11.jpg)\n",
    "<center>Free body diagram of joint A showing internal member forces.</center>"
   ]
  },
  {
   "cell_type": "markdown",
   "metadata": {},
   "source": [
    "For member AB in compression, the yellow force arrows point outward, as if to resist a force compressing the member. By the same analogy, the force arrows for member BC point inwards as if to resist a force trying to pull apart or stretch the bar. Many students initially find this counter-intuitive so make sure you're happy with this before proceeding. "
   ]
  },
  {
   "cell_type": "markdown",
   "metadata": {},
   "source": [
    "Now let's consider a slightly larger structure. The truss shown below is a digital model of the Fort Atkinson Truss bridge. It's an example of a Pratt truss. The bridge actually consists of two parallel Pratt trusses. For this discussion we will isolate one of the trusses and evaluate the load path."
   ]
  },
  {
   "cell_type": "code",
   "execution_count": 9,
   "metadata": {
    "hide_input": true
   },
   "outputs": [
    {
     "data": {
      "text/html": [
       "<center><iframe title='A 3D model' width='640' height='480' src='https://sketchfab.com/models/e01f0d8238334809a8cd8af92f45fd57/embed'></iframe></center>"
      ],
      "text/plain": [
       "<IPython.core.display.HTML object>"
      ]
     },
     "execution_count": 9,
     "metadata": {},
     "output_type": "execute_result"
    }
   ],
   "source": [
    "HTML(\"<center><iframe title='A 3D model' width='640' height='480' src='https://sketchfab.com/models/e01f0d8238334809a8cd8af92f45fd57/embed'></iframe></center>\")"
   ]
  },
  {
   "cell_type": "markdown",
   "metadata": {},
   "source": [
    "A simplified structural model upon which to base our analysis is shown below. We can see two loads of 40.5 kN are applied symmetrically to the structure. We also note that the structure itself is symmetrical. From this we can conclude that the force distribution within the structure will also be symmetrical and we need only analyse half of the structure. You should watch out for symmetry generally as it will often provide you with shortcuts like this."
   ]
  },
  {
   "cell_type": "markdown",
   "metadata": {},
   "source": [
    "![title](img/T1W3/image12.jpg)\n",
    "<center>Simplified structural model of the Fort Atkinson truss bridge.</center>"
   ]
  },
  {
   "cell_type": "markdown",
   "metadata": {},
   "source": [
    "<center><mark>BEFORE READING ON, STOP! TRY TO ANALYSE THE FORCES YOURSELF FIRST</mark></center>"
   ]
  },
  {
   "cell_type": "markdown",
   "metadata": {},
   "source": [
    "Assuming you've taken a stab at the analysis, we'll proceed. The first task is to determine the reactions. By inspection we can state that the potential horizontal reaction at support A is zero (because all external loads are vertical). Similarly, we can state by inspection that due to symmetry, the vertical reactions at A and H are 40.5 kN each.\n",
    "\n",
    "At this point we can analyse each joint in turn using the Joint Resolution Method; we’ll start with joint A. We will be evaluating the sum of the forces meeting at the joint. As we've seen above, these forces can be resolved into two orthogonal directions allowing us to evaluate two equations of force equilibrium. Remember, this means we can determine two unknowns. So we can only start at a joint that has a maximum of two unknown member forces. This is why joint A (or H) is a good starting point."
   ]
  },
  {
   "cell_type": "markdown",
   "metadata": {},
   "source": [
    "![title](img/T1W3/image13.jpg)\n",
    "<center>Free body diagram of joint A.</center>"
   ]
  },
  {
   "cell_type": "markdown",
   "metadata": {},
   "source": [
    "![title](img/T1W3/image14.jpg)\n",
    "<center>Free body diagram of joint N.</center>"
   ]
  },
  {
   "cell_type": "markdown",
   "metadata": {},
   "source": [
    "![title](img/T1W3/image15.jpg)\n",
    "<center>Free body diagram of joint B.</center>"
   ]
  },
  {
   "cell_type": "markdown",
   "metadata": {},
   "source": [
    "![title](img/T1W3/image16.jpg)\n",
    "<center>Free body diagram of joint M.</center>"
   ]
  },
  {
   "cell_type": "markdown",
   "metadata": {},
   "source": [
    "![title](img/T1W3/image17.jpg)\n",
    "<center>Free body diagram of joint C.</center>"
   ]
  },
  {
   "cell_type": "markdown",
   "metadata": {},
   "source": [
    "### 3.2 The method of sections"
   ]
  },
  {
   "cell_type": "code",
   "execution_count": null,
   "metadata": {},
   "outputs": [],
   "source": []
  },
  {
   "cell_type": "markdown",
   "metadata": {},
   "source": [
    "In the joint resolution method we notice that every time we evaluated equilibrium, all forces passed through the joint"
   ]
  },
  {
   "cell_type": "code",
   "execution_count": null,
   "metadata": {},
   "outputs": [],
   "source": []
  },
  {
   "cell_type": "code",
   "execution_count": null,
   "metadata": {},
   "outputs": [],
   "source": []
  },
  {
   "cell_type": "markdown",
   "metadata": {},
   "source": []
  },
  {
   "cell_type": "markdown",
   "metadata": {},
   "source": []
  },
  {
   "cell_type": "markdown",
   "metadata": {},
   "source": [
    "## 4.0 Statical Determinacy "
   ]
  },
  {
   "cell_type": "markdown",
   "metadata": {},
   "source": []
  },
  {
   "cell_type": "markdown",
   "metadata": {},
   "source": []
  },
  {
   "cell_type": "markdown",
   "metadata": {},
   "source": []
  }
 ],
 "metadata": {
  "hide_input": false,
  "kernelspec": {
   "display_name": "Python 3",
   "language": "python",
   "name": "python3"
  },
  "language_info": {
   "codemirror_mode": {
    "name": "ipython",
    "version": 3
   },
   "file_extension": ".py",
   "mimetype": "text/x-python",
   "name": "python",
   "nbconvert_exporter": "python",
   "pygments_lexer": "ipython3",
   "version": "3.6.4"
  },
  "toc": {
   "base_numbering": 1,
   "nav_menu": {},
   "number_sections": true,
   "sideBar": true,
   "skip_h1_title": false,
   "title_cell": "Table of Contents",
   "title_sidebar": "Contents",
   "toc_cell": false,
   "toc_position": {},
   "toc_section_display": true,
   "toc_window_display": false
  }
 },
 "nbformat": 4,
 "nbformat_minor": 2
}
